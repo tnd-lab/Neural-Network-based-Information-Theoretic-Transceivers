{
  "cells": [
    {
      "cell_type": "code",
      "execution_count": 2,
      "metadata": {
        "id": "8Dkxa9jxyuB5"
      },
      "outputs": [],
      "source": [
        "from sionna.channel import AWGN\n",
        "from sionna.utils import BinarySource, ebnodb2no\n",
        "from sionna.mapping import Mapper, Demapper, Constellation\n",
        "from sionna.utils import sim_ber\n",
        "import sionna as sn\n",
        "import matplotlib as mpl\n",
        "import utils\n",
        "from utils.my_utils import ebno_db_setup, load_weights, save_weights, bit2onehot, Normalize, Q_func"
      ]
    },
    {
      "cell_type": "code",
      "execution_count": null,
      "metadata": {},
      "outputs": [],
      "source": [
        "import matplotlib.pyplot as plt\n",
        "import numpy as np\n",
        "import pickle\n",
        "import tensorflow as tf\n",
        "from tensorflow.keras import Model\n",
        "from tensorflow.keras.layers import Dense, Conv1D, Activation\n",
        "import sys\n",
        "sys.path.append('..')\n",
        "from config import WEIGHTS_PATH"
      ]
    },
    {
      "cell_type": "code",
      "execution_count": null,
      "metadata": {
        "id": "A4dqMXDWyuCA"
      },
      "outputs": [
        {
          "name": "stdout",
          "output_type": "stream",
          "text": [
            "d:\\2024_2\\ATC_Conference\\Neural-Network-based-Information-Theoretic-Transceivers\\weights\n"
          ]
        }
      ],
      "source": [
        "#Intialized Parameters\n",
        "n = 6000\n",
        "num_bits_per_symbol = 4\n",
        "M = 2**num_bits_per_symbol\n",
        "coderate = 1.0\n",
        "n_channel = 1\n",
        "num_symbols_per_codeword = n//num_bits_per_symbol\n",
        "\n",
        "#Training parameters\n",
        "weights_path = WEIGHTS_PATH\n",
        "training_batch_size = tf.constant(128, tf.int32)"
      ]
    },
    {
      "cell_type": "code",
      "execution_count": null,
      "metadata": {},
      "outputs": [
        {
          "name": "stdout",
          "output_type": "stream",
          "text": [
            "EBNO_MIN: -10.00\n",
            "EBNO_MAX: 20.00\n",
            "EBNO_TRAIN: 12.00\n"
          ]
        }
      ],
      "source": [
        "No = -114       \n",
        "B = 10**6       \n",
        "R = 1           \n",
        "\n",
        "EBNO_MIN = ebno_db_setup(-64, No, B, R)\n",
        "EBNO_MAX = ebno_db_setup(-34, No, B, R)\n",
        "EBNO_TRAIN = ebno_db_setup(-42, No, B, R)\n",
        "print(f\"EBNO_MIN: {EBNO_MIN:.2f}\")\n",
        "print(f\"EBNO_MAX: {EBNO_MAX:.2f}\")\n",
        "print(f\"EBNO_TRAIN: {EBNO_TRAIN:.2f}\")"
      ]
    },
    {
      "cell_type": "markdown",
      "metadata": {
        "id": "bsRX5xt4yuCJ"
      },
      "source": [
        "### AE-CNN"
      ]
    },
    {
      "cell_type": "code",
      "execution_count": null,
      "metadata": {
        "id": "R9iI2xk9yuCK"
      },
      "outputs": [],
      "source": [
        "class E2E_AE_CNN(Model):\n",
        "    def __init__(self, training):\n",
        "        super().__init__()\n",
        "        self._training = training\n",
        "        self._binary_source = BinarySource()\n",
        "\n",
        "        # Transmitter\n",
        "        self.conv1 = Conv1D(32, kernel_size=3, strides=1, padding='same')\n",
        "        self.conv2 = Conv1D(16, kernel_size=3, strides=1, padding='same')\n",
        "        self.dense_tx = Dense(2*n_channel)  # Outputs real and imaginary parts\n",
        "\n",
        "        # Channel\n",
        "        self._channel = AWGN()\n",
        "\n",
        "        # Receiver\n",
        "        self.conv3 = Conv1D(16, kernel_size=3, strides=1, padding='same')\n",
        "        self.conv4 = Conv1D(32, kernel_size=3, strides=1, padding='same')\n",
        "        self.dense_rx = Dense(2**num_bits_per_symbol, activation= 'softmax')\n",
        "\n",
        "        if self._training:\n",
        "            self._ce = tf.keras.losses.CategoricalCrossentropy()\n",
        "\n",
        "    @tf.function()\n",
        "    def call(self, batch_size, ebno_db):\n",
        "        batch_size = tf.cast(batch_size, dtype=tf.int32)\n",
        "        no = sn.utils.ebnodb2no(ebno_db, num_bits_per_symbol = num_bits_per_symbol, coderate=1.0)\n",
        "\n",
        "\n",
        "        b = self._binary_source([batch_size, n])\n",
        "        _,indices,s_initial = bit2onehot(b,num_bits_per_symbol, batch_size,num_symbols_per_codeword)\n",
        "        ##############\n",
        "        ## Transmitter\n",
        "        ##############\n",
        "        x = self.conv1(s_initial)\n",
        "        x = Activation('relu')(x)\n",
        "\n",
        "        x = self.conv2(x)\n",
        "        x = Activation('relu')(x)\n",
        "\n",
        "\n",
        "        x = self.dense_tx(x)\n",
        "        x_real = x[:,:,:n_channel]\n",
        "        x_img  = x[:,:,n_channel:]\n",
        "        x = tf.cast(tf.complex(x_real, x_img), dtype=tf.complex64)\n",
        "        x = Normalize(x)\n",
        "        #############\n",
        "        ## Channel\n",
        "        #############\n",
        "        y = self._channel([x, no])\n",
        "\n",
        "        #############\n",
        "        ## Receiver\n",
        "        #############\n",
        "        y = tf.concat([tf.math.real(y), tf.math.imag(y)], axis=-1)\n",
        "\n",
        "        y = self.conv3(y)\n",
        "        y = Activation('relu')(y)\n",
        "\n",
        "        y = self.conv4(y)\n",
        "        y = Activation('relu')(y)\n",
        "\n",
        "        prob = self.dense_rx(y)\n",
        "\n",
        "\n",
        "        if self._training:\n",
        "            loss = self._ce(s_initial, prob)\n",
        "            return loss\n",
        "        else:\n",
        "            s_hat = tf.argmax(prob, axis = -1)\n",
        "            return indices,s_hat"
      ]
    },
    {
      "cell_type": "markdown",
      "metadata": {},
      "source": [
        "### AE-DNN"
      ]
    },
    {
      "cell_type": "code",
      "execution_count": null,
      "metadata": {},
      "outputs": [],
      "source": [
        "class E2E_AE_DNN(Model):\n",
        "    def __init__(self, training):\n",
        "        super().__init__()\n",
        "\n",
        "        self._training = training\n",
        "        self._binary_source = BinarySource()\n",
        "\n",
        "\n",
        "        ## Transmitter\n",
        "        self.dense_1 = Dense(2**num_bits_per_symbol, 'relu')\n",
        "        self.dense_2 = Dense(2**num_bits_per_symbol, 'relu')\n",
        "        self.dense_3 = Dense(2 * n_channel, None)\n",
        "\n",
        "        ## Channel\n",
        "        self._channel = AWGN()\n",
        "\n",
        "\n",
        "        ## Receiver\n",
        "        self.dense_4 = Dense(2**num_bits_per_symbol, 'relu')\n",
        "        self.dense_5 = Dense(2**num_bits_per_symbol, 'relu')\n",
        "        self.output_layer = Dense(2**num_bits_per_symbol, 'softmax')\n",
        "\n",
        "        # Loss function\n",
        "        if self._training:\n",
        "            self._ce = tf.keras.losses.CategoricalCrossentropy()\n",
        "    @tf.function()\n",
        "    def call(self, batch_size, ebno_db):\n",
        "        batch_size = tf.cast(batch_size, dtype = tf.int32)\n",
        "\n",
        "        no = sn.utils.ebnodb2no(ebno_db, num_bits_per_symbol = num_bits_per_symbol, coderate=1.0)\n",
        "        \n",
        "        b = self._binary_source([batch_size, n])\n",
        "\n",
        "        ################\n",
        "        ## Transmitter\n",
        "        ################\n",
        "\n",
        "        _,indices,s_initial = bit2onehot(b,num_bits_per_symbol, batch_size,num_symbols_per_codeword)\n",
        "\n",
        "        s = self.dense_1(s_initial)\n",
        "        s = self.dense_2(s)\n",
        "        s = self.dense_3(s)\n",
        "        x_real = s[:,:,:n_channel]\n",
        "        x_img  = s[:,:,n_channel:]\n",
        "        x = tf.cast(tf.complex(x_real, x_img), dtype=tf.complex64)\n",
        "        x = Normalize(x)\n",
        "\n",
        "\n",
        "        ################\n",
        "        ## Channel\n",
        "        ################\n",
        "        y = self._channel([x, no])\n",
        "        ################\n",
        "        ## Receiver\n",
        "        ################\n",
        "        y = tf.concat([tf.math.real(y), tf.math.imag(y)], axis=-1)\n",
        "        s_hat = self.dense_4(y)\n",
        "        s_hat = self.dense_5(s_hat)\n",
        "        prob = self.output_layer(s_hat)\n",
        "\n",
        "        if self._training:\n",
        "            loss = self._ce(s_initial, prob)\n",
        "            return loss\n",
        "        else:\n",
        "            s_hat = tf.argmax(prob, axis = -1)\n",
        "            # _,b_hat = indices_to_bits(s_hat, num_bits_per_symbol,batch_size) # convert to bits\n",
        "            return indices,s_hat"
      ]
    },
    {
      "cell_type": "markdown",
      "metadata": {
        "id": "2S5cLJaCyuCL"
      },
      "source": [
        "### APP-based\n"
      ]
    },
    {
      "cell_type": "code",
      "execution_count": 14,
      "metadata": {
        "id": "sNufDZTY3w9H"
      },
      "outputs": [],
      "source": [
        "class Baseline(Model): # Inherits from Keras Model\n",
        "\n",
        "    def __init__(self):\n",
        "\n",
        "        super().__init__() # Must call the Keras model initializer\n",
        "\n",
        "        self.constellation = Constellation(\"qam\", num_bits_per_symbol)\n",
        "        self.mapper = Mapper(constellation=self.constellation,return_indices=True)\n",
        "        self.demapper = Demapper(\"app\", constellation=self.constellation, hard_out=True)\n",
        "        self.binary_source = BinarySource()\n",
        "        self.awgn_channel = AWGN()\n",
        "\n",
        "    @tf.function \n",
        "    def __call__(self, batch_size, ebno_db):\n",
        "\n",
        "        # no channel coding used; we set coderate=1.0\n",
        "        no = ebnodb2no(ebno_db,\n",
        "                        num_bits_per_symbol=num_bits_per_symbol,\n",
        "                        coderate=1.0)\n",
        "        bits = self.binary_source([batch_size, n])\n",
        "\n",
        "        x, initial_indices = self.mapper(bits)\n",
        "\n",
        "        y = self.awgn_channel([x, no])\n",
        "        \n",
        "        llr = self.demapper([y,no])\n",
        "        _,pred_indices,_ = bit2onehot(llr,num_bits_per_symbol,batch_size)\n",
        "        pred_indices = tf.cast(pred_indices, dtype =tf.float64)\n",
        "        initial_indices = tf.cast(initial_indices, dtype =tf.float64)\n",
        "        initial_indices = tf.reshape(initial_indices, [-1])\n",
        "\n",
        "        return bits, llr, initial_indices, pred_indices"
      ]
    },
    {
      "cell_type": "markdown",
      "metadata": {
        "id": "v638LFkwyuCM"
      },
      "source": [
        "## Training"
      ]
    },
    {
      "cell_type": "code",
      "execution_count": 19,
      "metadata": {
        "id": "bX3osY5cyuCM"
      },
      "outputs": [],
      "source": [
        "def training_E2E_model(model,batch_size, ebno_db_train, iterations,loss_history):\n",
        "    tf.random.set_seed(1)\n",
        "    optimizer = tf.keras.optimizers.Adam()\n",
        "\n",
        "    for iteration in range(iterations):\n",
        "        with tf.GradientTape() as tape:\n",
        "            loss = model(batch_size,ebno_db_train)\n",
        "\n",
        "        grads = tape.gradient(loss, model.trainable_weights)\n",
        "\n",
        "        # Update model weights\n",
        "        optimizer.apply_gradients(zip(grads, model.trainable_weights))\n",
        "\n",
        "        # Store the loss value\n",
        "        loss_history.append(loss.numpy())\n",
        "\n",
        "        # Print loss every 100 iterations\n",
        "        if iteration % 100 == 0:\n",
        "            print(f\"Iteration: {iteration}, Loss: {loss.numpy()}\")       "
      ]
    },
    {
      "cell_type": "code",
      "execution_count": 18,
      "metadata": {
        "id": "hh8C934FNC-i"
      },
      "outputs": [],
      "source": [
        "loss_history_AECNN = []\n",
        "loss_history_AEDNN = []"
      ]
    },
    {
      "cell_type": "code",
      "execution_count": null,
      "metadata": {},
      "outputs": [],
      "source": [
        "E2E_AE_CNN_training = E2E_AE_CNN(training = True)\n",
        "training_E2E_model(E2E_AE_CNN_training, batch_size = training_batch_size, ebno_db_train = EBNO_TRAIN, iterations = 10000,loss_history = loss_history_AECNN)\n",
        "model_weights_AE_CNN = weights_path + f'/weights of AE_CNN_16QAM_SER_8'  #change weight path here\n",
        "save_weights(E2E_AE_CNN_training, model_weights_AE_CNN)"
      ]
    },
    {
      "cell_type": "code",
      "execution_count": null,
      "metadata": {},
      "outputs": [],
      "source": [
        "E2E_AE_DNN_training = E2E_AE_DNN(training = True)\n",
        "training_E2E_model(E2E_AE_DNN_training, batch_size = training_batch_size, ebno_db_train = EBNO_TRAIN, iterations = 10000,loss_history = loss_history_AECNN)\n",
        "model_weights_AE_DNN = weights_path + f'/weights of AE_DNN_16QAM_SER_8'  #change weight path here\n",
        "save_weights(E2E_AE_DNN_training, model_weights_AE_DNN)"
      ]
    },
    {
      "cell_type": "code",
      "execution_count": null,
      "metadata": {
        "colab": {
          "base_uri": "https://localhost:8080/",
          "height": 607
        },
        "id": "UrsAaDMMbQnE",
        "outputId": "be0a00ea-78f9-464d-f328-e33f244f1eb4"
      },
      "outputs": [],
      "source": [
        "plt.figure(figsize=(10, 6))\n",
        "plt.plot(loss_history_AECNN, label='Training Loss of AE-CNN-based Receiver ')\n",
        "plt.xlabel('Iteration')\n",
        "plt.ylabel('Loss')\n",
        "plt.title(f'Training Loss over Iterations - {M}QAM')\n",
        "plt.legend()\n",
        "plt.grid(True)\n",
        "plt.tight_layout()\n",
        "plt.show()"
      ]
    },
    {
      "cell_type": "markdown",
      "metadata": {
        "id": "Ztc0jAyMyuCO"
      },
      "source": [
        "## Evaluation"
      ]
    },
    {
      "cell_type": "code",
      "execution_count": null,
      "metadata": {
        "id": "fjTO3JR5yuCO"
      },
      "outputs": [],
      "source": [
        "ebno_dbs_eval = np.linspace(EBNO_MIN, EBNO_MAX, 50)\n",
        "SER ={}"
      ]
    },
    {
      "cell_type": "code",
      "execution_count": 26,
      "metadata": {
        "id": "aqZCVLu_4C7P"
      },
      "outputs": [
        {
          "name": "stdout",
          "output_type": "stream",
          "text": [
            "Ebno[dB]: -10.00      SER: 0.83655 \n",
            "Ebno[dB]: -9.39       SER: 0.82758 \n",
            "Ebno[dB]: -8.78       SER: 0.81411 \n",
            "Ebno[dB]: -8.16       SER: 0.80179 \n",
            "Ebno[dB]: -7.55       SER: 0.78992 \n",
            "Ebno[dB]: -6.94       SER: 0.77288 \n",
            "Ebno[dB]: -6.33       SER: 0.75615 \n",
            "Ebno[dB]: -5.71       SER: 0.73760 \n",
            "Ebno[dB]: -5.10       SER: 0.71884 \n",
            "Ebno[dB]: -4.49       SER: 0.69779 \n",
            "Ebno[dB]: -3.88       SER: 0.67219 \n",
            "Ebno[dB]: -3.27       SER: 0.64742 \n",
            "Ebno[dB]: -2.65       SER: 0.61982 \n",
            "Ebno[dB]: -2.04       SER: 0.58976 \n",
            "Ebno[dB]: -1.43       SER: 0.56003 \n",
            "Ebno[dB]: -0.82       SER: 0.52570 \n",
            "Ebno[dB]: -0.20       SER: 0.49183 \n",
            "Ebno[dB]: 0.41        SER: 0.45545 \n",
            "Ebno[dB]: 1.02        SER: 0.41773 \n",
            "Ebno[dB]: 1.63        SER: 0.37333 \n",
            "Ebno[dB]: 2.24        SER: 0.33529 \n",
            "Ebno[dB]: 2.86        SER: 0.29629 \n",
            "Ebno[dB]: 3.47        SER: 0.25338 \n",
            "Ebno[dB]: 4.08        SER: 0.21555 \n",
            "Ebno[dB]: 4.69        SER: 0.17771 \n",
            "Ebno[dB]: 5.31        SER: 0.14444 \n",
            "Ebno[dB]: 5.92        SER: 0.11146 \n",
            "Ebno[dB]: 6.53        SER: 0.08552 \n",
            "Ebno[dB]: 7.14        SER: 0.06212 \n",
            "Ebno[dB]: 7.76        SER: 0.04345 \n",
            "Ebno[dB]: 8.37        SER: 0.02775 \n",
            "Ebno[dB]: 8.98        SER: 0.01788 \n",
            "Ebno[dB]: 9.59        SER: 0.01042 \n",
            "Ebno[dB]: 10.20       SER: 0.00592 \n",
            "Ebno[dB]: 10.82       SER: 0.00276 \n",
            "Ebno[dB]: 11.43       SER: 0.00121 \n",
            "Ebno[dB]: 12.04       SER: 0.00056 \n",
            "Ebno[dB]: 12.65       SER: 0.00021 \n",
            "Ebno[dB]: 13.27       SER: 0.00007 \n",
            "Ebno[dB]: 13.88       SER: 0.00002 \n",
            "Ebno[dB]: 14.49       SER: 0.00000 \n",
            "Ebno[dB]: 15.10       SER: 0.00000 \n",
            "Ebno[dB]: 15.71       SER: 0.00000 \n",
            "Ebno[dB]: 16.33       SER: 0.00000 \n",
            "Ebno[dB]: 16.94       SER: 0.00000 \n",
            "Ebno[dB]: 17.55       SER: 0.00000 \n",
            "Ebno[dB]: 18.16       SER: 0.00000 \n",
            "Ebno[dB]: 18.78       SER: 0.00000 \n",
            "Ebno[dB]: 19.39       SER: 0.00000 \n",
            "Ebno[dB]: 20.00       SER: 0.00000 \n"
          ]
        }
      ],
      "source": [
        "SER['Baseline_16'] = []\n",
        "model_baseline = Baseline()\n",
        "for ebno in ebno_dbs_eval:\n",
        "  _,_,s_baseline,s_hat_baseline = model_baseline(tf.constant(128, tf.int32), tf.constant(ebno, tf.float32))\n",
        "  ser_baseline = sn.utils.compute_ser(s_baseline,s_hat_baseline)\n",
        "  SER['Baseline_16'].append(ser_baseline)\n",
        "  print(f'Ebno[dB]: {ebno:<8.2f}    SER: {ser_baseline:<8.5f}')"
      ]
    },
    {
      "cell_type": "code",
      "execution_count": 29,
      "metadata": {},
      "outputs": [
        {
          "name": "stdout",
          "output_type": "stream",
          "text": [
            "Ebno[dB]: -10.00      SER: 0.82807 \n",
            "Ebno[dB]: -9.39       SER: 0.81917 \n",
            "Ebno[dB]: -8.78       SER: 0.80734 \n",
            "Ebno[dB]: -8.16       SER: 0.79533 \n",
            "Ebno[dB]: -7.55       SER: 0.78115 \n",
            "Ebno[dB]: -6.94       SER: 0.76523 \n",
            "Ebno[dB]: -6.33       SER: 0.74905 \n",
            "Ebno[dB]: -5.71       SER: 0.73185 \n",
            "Ebno[dB]: -5.10       SER: 0.71329 \n",
            "Ebno[dB]: -4.49       SER: 0.69195 \n",
            "Ebno[dB]: -3.88       SER: 0.66928 \n",
            "Ebno[dB]: -3.27       SER: 0.64510 \n",
            "Ebno[dB]: -2.65       SER: 0.61937 \n",
            "Ebno[dB]: -2.04       SER: 0.58964 \n",
            "Ebno[dB]: -1.43       SER: 0.55791 \n",
            "Ebno[dB]: -0.82       SER: 0.52265 \n",
            "Ebno[dB]: -0.20       SER: 0.48883 \n",
            "Ebno[dB]: 0.41        SER: 0.45114 \n",
            "Ebno[dB]: 1.02        SER: 0.41117 \n",
            "Ebno[dB]: 1.63        SER: 0.37325 \n",
            "Ebno[dB]: 2.24        SER: 0.33149 \n",
            "Ebno[dB]: 2.86        SER: 0.29056 \n",
            "Ebno[dB]: 3.47        SER: 0.24693 \n",
            "Ebno[dB]: 4.08        SER: 0.20904 \n",
            "Ebno[dB]: 4.69        SER: 0.17104 \n",
            "Ebno[dB]: 5.31        SER: 0.13660 \n",
            "Ebno[dB]: 5.92        SER: 0.10498 \n",
            "Ebno[dB]: 6.53        SER: 0.07847 \n",
            "Ebno[dB]: 7.14        SER: 0.05593 \n",
            "Ebno[dB]: 7.76        SER: 0.03846 \n",
            "Ebno[dB]: 8.37        SER: 0.02454 \n",
            "Ebno[dB]: 8.98        SER: 0.01516 \n",
            "Ebno[dB]: 9.59        SER: 0.00816 \n",
            "Ebno[dB]: 10.20       SER: 0.00417 \n",
            "Ebno[dB]: 10.82       SER: 0.00206 \n",
            "Ebno[dB]: 11.43       SER: 0.00086 \n",
            "Ebno[dB]: 12.04       SER: 0.00029 \n",
            "Ebno[dB]: 12.65       SER: 0.00009 \n",
            "Ebno[dB]: 13.27       SER: 0.00003 \n",
            "Ebno[dB]: 13.88       SER: 0.00000 \n",
            "Ebno[dB]: 14.49       SER: 0.00001 \n",
            "Ebno[dB]: 15.10       SER: 0.00000 \n",
            "Ebno[dB]: 15.71       SER: 0.00000 \n",
            "Ebno[dB]: 16.33       SER: 0.00000 \n",
            "Ebno[dB]: 16.94       SER: 0.00000 \n",
            "Ebno[dB]: 17.55       SER: 0.00000 \n",
            "Ebno[dB]: 18.16       SER: 0.00000 \n",
            "Ebno[dB]: 18.78       SER: 0.00000 \n",
            "Ebno[dB]: 19.39       SER: 0.00000 \n",
            "Ebno[dB]: 20.00       SER: 0.00000 \n"
          ]
        }
      ],
      "source": [
        "SER['AutoEncoder - CNN-16'] = []\n",
        "model_weights_AE_CNN = weights_path + f'/weights of AE_CNN_16QAM_SER_12'\n",
        "model_AE_CNN = E2E_AE_CNN(False)\n",
        "load_weights(model_AE_CNN, model_weights_AE_CNN)\n",
        "for ebno in ebno_dbs_eval:\n",
        "  indices_1,s_hat_1 = model_AE_CNN(tf.constant(128, tf.int32), tf.constant(ebno, tf.float32))\n",
        "  indices_1 = tf.cast(indices_1, tf.int64)\n",
        "  indices_1 = tf.reshape(indices_1,s_hat_1.shape)\n",
        "  ser_1 = sn.utils.compute_ser(indices_1,s_hat_1)\n",
        "  SER['AutoEncoder - CNN-16'].append(ser_1.numpy())\n",
        "  print(f'Ebno[dB]: {ebno:<8.2f}    SER: {ser_1:<8.5f}')"
      ]
    },
    {
      "cell_type": "code",
      "execution_count": 31,
      "metadata": {},
      "outputs": [
        {
          "name": "stdout",
          "output_type": "stream",
          "text": [
            "Ebno[dB]: -10.00      SER: 0.82738 \n",
            "Ebno[dB]: -9.39       SER: 0.81777 \n",
            "Ebno[dB]: -8.78       SER: 0.80627 \n",
            "Ebno[dB]: -8.16       SER: 0.79428 \n",
            "Ebno[dB]: -7.55       SER: 0.78179 \n",
            "Ebno[dB]: -6.94       SER: 0.76595 \n",
            "Ebno[dB]: -6.33       SER: 0.75135 \n",
            "Ebno[dB]: -5.71       SER: 0.73277 \n",
            "Ebno[dB]: -5.10       SER: 0.71352 \n",
            "Ebno[dB]: -4.49       SER: 0.69131 \n",
            "Ebno[dB]: -3.88       SER: 0.66994 \n",
            "Ebno[dB]: -3.27       SER: 0.64373 \n",
            "Ebno[dB]: -2.65       SER: 0.61715 \n",
            "Ebno[dB]: -2.04       SER: 0.58923 \n",
            "Ebno[dB]: -1.43       SER: 0.55589 \n",
            "Ebno[dB]: -0.82       SER: 0.52315 \n",
            "Ebno[dB]: -0.20       SER: 0.48684 \n",
            "Ebno[dB]: 0.41        SER: 0.45042 \n",
            "Ebno[dB]: 1.02        SER: 0.41006 \n",
            "Ebno[dB]: 1.63        SER: 0.37034 \n",
            "Ebno[dB]: 2.24        SER: 0.32795 \n",
            "Ebno[dB]: 2.86        SER: 0.28819 \n",
            "Ebno[dB]: 3.47        SER: 0.24622 \n",
            "Ebno[dB]: 4.08        SER: 0.20599 \n",
            "Ebno[dB]: 4.69        SER: 0.16875 \n",
            "Ebno[dB]: 5.31        SER: 0.13460 \n",
            "Ebno[dB]: 5.92        SER: 0.10323 \n",
            "Ebno[dB]: 6.53        SER: 0.07736 \n",
            "Ebno[dB]: 7.14        SER: 0.05469 \n",
            "Ebno[dB]: 7.76        SER: 0.03687 \n",
            "Ebno[dB]: 8.37        SER: 0.02344 \n",
            "Ebno[dB]: 8.98        SER: 0.01448 \n",
            "Ebno[dB]: 9.59        SER: 0.00795 \n",
            "Ebno[dB]: 10.20       SER: 0.00418 \n",
            "Ebno[dB]: 10.82       SER: 0.00199 \n",
            "Ebno[dB]: 11.43       SER: 0.00090 \n",
            "Ebno[dB]: 12.04       SER: 0.00029 \n",
            "Ebno[dB]: 12.65       SER: 0.00010 \n",
            "Ebno[dB]: 13.27       SER: 0.00002 \n",
            "Ebno[dB]: 13.88       SER: 0.00001 \n",
            "Ebno[dB]: 14.49       SER: 0.00000 \n",
            "Ebno[dB]: 15.10       SER: 0.00000 \n",
            "Ebno[dB]: 15.71       SER: 0.00000 \n",
            "Ebno[dB]: 16.33       SER: 0.00000 \n",
            "Ebno[dB]: 16.94       SER: 0.00000 \n",
            "Ebno[dB]: 17.55       SER: 0.00000 \n",
            "Ebno[dB]: 18.16       SER: 0.00000 \n",
            "Ebno[dB]: 18.78       SER: 0.00000 \n",
            "Ebno[dB]: 19.39       SER: 0.00000 \n",
            "Ebno[dB]: 20.00       SER: 0.00000 \n"
          ]
        }
      ],
      "source": [
        "SER['AutoEncoder - DNN-16'] = []\n",
        "model_weights_AE_DNN = weights_path + f'/weights of AE_DNN_16QAM_SER_12'\n",
        "model_AE_DNN = E2E_AE_DNN(False)\n",
        "load_weights(model_AE_DNN, model_weights_AE_DNN)\n",
        "for ebno in ebno_dbs_eval:\n",
        "  indices_2,s_hat_2 = model_AE_DNN(tf.constant(128, tf.int32), tf.constant(ebno, tf.float32))\n",
        "  indices_2 = tf.cast(indices_2, tf.int64)\n",
        "  indices_2 = tf.reshape(indices_2,s_hat_2.shape)\n",
        "  ser_2 = sn.utils.compute_ser(indices_2,s_hat_2)\n",
        "  SER['AutoEncoder - DNN-16'].append(ser_2.numpy())\n",
        "  print(f'Ebno[dB]: {ebno:<8.2f}    SER: {ser_2:<8.5f}')"
      ]
    },
    {
      "cell_type": "markdown",
      "metadata": {
        "id": "cD1YguNVyuCQ"
      },
      "source": [
        "## Plot out"
      ]
    },
    {
      "cell_type": "code",
      "execution_count": null,
      "metadata": {
        "id": "NiuILcLMPNV9"
      },
      "outputs": [],
      "source": [
        "def Theoretical_Line(ebnos_db, M):\n",
        "    ebnos = 10**(ebnos_db / 10)  #input should be linear so convert into linear\n",
        "    k = np.log2(M)\n",
        "    esnos = ebnos*k\n",
        "    return 4*(1 - (1/np.sqrt(M)))*Q_func(np.sqrt(3*esnos/(M-1)))  - 4*((1 - (1/np.sqrt(M)))*Q_func(np.sqrt(3*esnos/(M-1))))**2"
      ]
    },
    {
      "cell_type": "code",
      "execution_count": null,
      "metadata": {},
      "outputs": [],
      "source": [
        "new_red = '#FF6384'      # Reddish-pink, coral-like\n",
        "new_blue = '#36A2EB'     # Vibrant medium blue\n",
        "new_green = '#2ECC71'    # Bright emerald green\n",
        "new_orange = '#E67E22'   # Warm orange"
      ]
    },
    {
      "cell_type": "code",
      "execution_count": null,
      "metadata": {},
      "outputs": [
        {
          "data": {
            "image/png": "[encoded data removed]",
            "text/plain": [
              "<Figure size 1000x700 with 1 Axes>"
            ]
          },
          "metadata": {},
          "output_type": "display_data"
        }
      ],
      "source": [
        "mpl.rcParams['font.family'] = 'serif'  # or 'sans-serif', 'monospace', etc.\n",
        "mpl.rcParams['font.serif'] = ['Times New Roman']  # or any available font on your system\n",
        "mpl.rcParams['font.size'] = 14  # Increase this for larger text\n",
        "\n",
        "eb_no_db_range = np.linspace(EBNO_MIN, EBNO_MAX, 50)\n",
        "ser_theo_16 = Theoretical_Line(eb_no_db_range,16)\n",
        "\n",
        "\n",
        "plt.figure(figsize=(10, 7))\n",
        "plt.semilogy(eb_no_db_range, ser_theo_16, '--', color = new_red, label=f'Theoretical Line  16-QAM')\n",
        "plt.semilogy(eb_no_db_range, SER['Baseline_16'],'o-', color = new_blue, markersize = 3,linewidth=1, label = f'APP-based 16-QAM')\n",
        "plt.semilogy(eb_no_db_range, SER['AutoEncoder - CNN-16'], 's-.', color = new_green, markersize=3,linewidth=1, label = f'AECNN-based E2E 16-QAM')\n",
        "plt.semilogy(eb_no_db_range, SER['AutoEncoder - DNN-16'], 's-.', color = new_orange, markersize=3,linewidth=1, label = f'AEDNN-based E2E 16-QAM')\n",
        "\n",
        "\n",
        "plt.legend(loc='lower left', fontsize=10, frameon=True, shadow=True, fancybox=True)\n",
        "plt.xlabel('Eb/N₀ (dB)',fontsize=15)\n",
        "plt.ylabel('Symbol Error Rate (SER)',fontsize=15)\n",
        "\n",
        "plt.grid(True, which='both', linestyle='--', linewidth=0.7, alpha=0.6)\n",
        "plt.ylim(1e-4, 1.5)\n",
        "plt.xlim(-10,20)\n",
        "plt.xticks(fontsize=14)\n",
        "plt.yticks(fontsize=14)\n",
        "plt.show()"
      ]
    }
  ],
  "metadata": {
    "accelerator": "GPU",
    "colab": {
      "gpuType": "T4",
      "provenance": []
    },
    "kernelspec": {
      "display_name": "Python 3",
      "language": "python",
      "name": "python3"
    },
    "language_info": {
      "codemirror_mode": {
        "name": "ipython",
        "version": 3
      },
      "file_extension": ".py",
      "mimetype": "text/x-python",
      "name": "python",
      "nbconvert_exporter": "python",
      "pygments_lexer": "ipython3",
      "version": "3.11.10"
    }
  },
  "nbformat": 4,
  "nbformat_minor": 0
}
